{
 "cells": [
  {
   "cell_type": "markdown",
   "metadata": {},
   "source": [
    "# Evaluation Invalid"
   ]
  },
  {
   "cell_type": "code",
   "execution_count": 5,
   "metadata": {},
   "outputs": [],
   "source": [
    "import pandas as pd\n",
    "import numpy as np\n",
    "\n",
    "from health_invalid_module import health_invalid\n",
    "from outlier_invalid_module import outlier_invalid_all"
   ]
  },
  {
   "cell_type": "markdown",
   "metadata": {},
   "source": [
    "## Metal Dataset"
   ]
  },
  {
   "cell_type": "code",
   "execution_count": 6,
   "metadata": {},
   "outputs": [
    {
     "name": "stdout",
     "output_type": "stream",
     "text": [
      "Number of rows with unknown country: 117\n",
      "Unknown countries: Counter({'TAIWAN - PROVINCE OF CHINA': 31, \"COTE D'IVOIRE\": 15, 'IVORY COAST': 14, 'TURKEY': 10, 'CROATIA (local name: Hrvatska)': 9, \"KOREA - DEMOCRATIC PEOPLE'S REPUBLIC OF\": 5, 'OTHER AFRICAN': 5, 'OTHER ASIAN': 5, 'OTHER EUROPEAN': 4, 'MACEDONIA - THE FORMER YUGOSLAV REPUBLIC OF': 3, 'TIBET': 3, 'IRAN (ISLAMIC REPUBLIC OF)': 2, 'PALESTINIAN TERRITORY - OCCUPIED': 2, 'MACAU': 1, 'TANZANIA - UNITED REPUBLIC OF': 1, 'MELNESIA': 1, 'MICRONESIA - FEDERATED STATES OF': 1, 'OTHER SPANISH': 1, 'YEMEN (PEOPLES DEM. REP)': 1, 'BOSNIA AND HERZEGOWINA': 1, 'USSR': 1, 'KOREA - REPUBLIC OF': 1})\n",
      "Number of rows with invalid concentration: 0\n",
      "Invalid concentration: Counter()\n",
      "Number of rows with invalid concentration: 0\n",
      "Invalid concentration: Counter()\n",
      "invalid_counts_per_column:  ROW_ID               0\n",
      "PRODUCT_TYPE         0\n",
      "PRODUCT_NAME         0\n",
      "METAL                0\n",
      "CONCENTRATION        0\n",
      "UNITS                0\n",
      "MANUFACTURER         0\n",
      "MADE_IN_COUNTRY    117\n",
      "COLLECTION_DATE      0\n",
      "DELETED              0\n",
      "dtype: int64\n",
      "Precision: 0.7094017094017094\n",
      "Recall: 0.8829787234042553\n"
     ]
    }
   ],
   "source": [
    "input_df = pd.read_csv('../dataset/Metal_Content_of_Consumer_Products_Tested_by_the_NYC_Health_Department_20240403.csv')\n",
    "\n",
    "replace_symbol = 'Invalid'\n",
    "res, _ = health_invalid(input_df, replace_symbol)\n",
    "invalid_counts_per_column = res.apply(lambda col: col[col == replace_symbol].count())\n",
    "print(\"invalid_counts_per_column: \", invalid_counts_per_column)\n",
    "\n",
    "true_labels = pd.read_csv('../dataset/Labeled_Metal.csv')\n",
    "\n",
    "TP = np.sum((res == replace_symbol) & (true_labels == replace_symbol))\n",
    "FP = np.sum((res == replace_symbol) & (true_labels != replace_symbol))\n",
    "FN = np.sum((res != replace_symbol) & (true_labels == replace_symbol))\n",
    "\n",
    "\n",
    "# Calculate precision and recall\n",
    "TP_sum = TP.sum(axis=0)\n",
    "FP_sum = FP.sum(axis=0)\n",
    "FN_sum = FN.sum(axis=0)\n",
    "\n",
    "precision = TP_sum / (TP_sum + FP_sum) if (TP_sum + FP_sum) > 0 else 0\n",
    "recall = TP_sum / (TP_sum + FN_sum) if (TP_sum + FN_sum) > 0 else 0\n",
    "\n",
    "print(f\"Precision: {precision}\")\n",
    "print(f\"Recall: {recall}\")"
   ]
  },
  {
   "cell_type": "markdown",
   "metadata": {},
   "source": [
    "## SARS"
   ]
  },
  {
   "cell_type": "code",
   "execution_count": 7,
   "metadata": {},
   "outputs": [
    {
     "name": "stderr",
     "output_type": "stream",
     "text": [
      "/Users/iris/opt/anaconda3/envs/py39/lib/python3.9/site-packages/numpy/core/fromnumeric.py:3715: RuntimeWarning: Degrees of freedom <= 0 for slice\n",
      "  return _methods._var(a, axis=axis, dtype=dtype, out=out, ddof=ddof,\n",
      "/Users/iris/opt/anaconda3/envs/py39/lib/python3.9/site-packages/numpy/core/_methods.py:223: RuntimeWarning: invalid value encountered in divide\n",
      "  arrmean = um.true_divide(arrmean, div, out=arrmean, casting='unsafe',\n",
      "/Users/iris/opt/anaconda3/envs/py39/lib/python3.9/site-packages/numpy/core/_methods.py:257: RuntimeWarning: invalid value encountered in double_scalars\n",
      "  ret = ret.dtype.type(ret / rcount)\n",
      "/Users/iris/opt/anaconda3/envs/py39/lib/python3.9/site-packages/numpy/core/fromnumeric.py:3715: RuntimeWarning: Degrees of freedom <= 0 for slice\n",
      "  return _methods._var(a, axis=axis, dtype=dtype, out=out, ddof=ddof,\n",
      "/Users/iris/opt/anaconda3/envs/py39/lib/python3.9/site-packages/numpy/core/_methods.py:223: RuntimeWarning: invalid value encountered in divide\n",
      "  arrmean = um.true_divide(arrmean, div, out=arrmean, casting='unsafe',\n",
      "/Users/iris/opt/anaconda3/envs/py39/lib/python3.9/site-packages/numpy/core/_methods.py:257: RuntimeWarning: invalid value encountered in double_scalars\n",
      "  ret = ret.dtype.type(ret / rcount)\n"
     ]
    },
    {
     "name": "stdout",
     "output_type": "stream",
     "text": [
      "invalid_counts_per_column:  Sample Date                                                       0\n",
      "Test date                                                         0\n",
      "WRRF Name                                                         0\n",
      "WRRF Abbreviation                                                 0\n",
      "Concentration SARS-CoV-2 gene target (N1 Copies/L)               37\n",
      "Per capita SARS-CoV-2 load (N1 copies per day per population)    34\n",
      "Annotation                                                        0\n",
      "Population Served, estimated                                      0\n",
      "Technology                                                        0\n",
      "dtype: int64\n",
      "Precision: 0.7183098591549296\n",
      "Recall: 0.8360655737704918\n"
     ]
    }
   ],
   "source": [
    "input_df = pd.read_csv('../dataset/SARS-CoV-2_concentrations_measured_in_NYC_Wastewater_20240403.csv')\n",
    "\n",
    "replace_symbol = 'Invalid'\n",
    "res, _ = outlier_invalid_all(input_df, replace_symbol)\n",
    "invalid_counts_per_column = res.apply(lambda col: col[col == replace_symbol].count())\n",
    "print(\"invalid_counts_per_column: \", invalid_counts_per_column)\n",
    "\n",
    "true_labels = pd.read_csv('../dataset/Labeled_SARS.csv')\n",
    "\n",
    "TP = np.sum((res == replace_symbol) & (true_labels == replace_symbol))\n",
    "FP = np.sum((res == replace_symbol) & (true_labels != replace_symbol))\n",
    "FN = np.sum((res != replace_symbol) & (true_labels == replace_symbol))\n",
    "\n",
    "\n",
    "# Calculate precision and recall\n",
    "TP_sum = TP.sum(axis=0)\n",
    "FP_sum = FP.sum(axis=0)\n",
    "FN_sum = FN.sum(axis=0)\n",
    "\n",
    "precision = TP_sum / (TP_sum + FP_sum) if (TP_sum + FP_sum) > 0 else 0\n",
    "recall = TP_sum / (TP_sum + FN_sum) if (TP_sum + FN_sum) > 0 else 0\n",
    "\n",
    "print(f\"Precision: {precision}\")\n",
    "print(f\"Recall: {recall}\")"
   ]
  }
 ],
 "metadata": {
  "kernelspec": {
   "display_name": "py39",
   "language": "python",
   "name": "python3"
  },
  "language_info": {
   "codemirror_mode": {
    "name": "ipython",
    "version": 3
   },
   "file_extension": ".py",
   "mimetype": "text/x-python",
   "name": "python",
   "nbconvert_exporter": "python",
   "pygments_lexer": "ipython3",
   "version": "3.9.16"
  }
 },
 "nbformat": 4,
 "nbformat_minor": 2
}
