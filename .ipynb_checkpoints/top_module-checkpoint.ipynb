{
 "cells": [
  {
   "cell_type": "markdown",
   "metadata": {},
   "source": [
    "# Data Quality Assessment"
   ]
  },
  {
   "cell_type": "code",
   "execution_count": 1,
   "metadata": {},
   "outputs": [
    {
     "name": "stderr",
     "output_type": "stream",
     "text": [
      "/Users/jiazhousuliaodai/anaconda3/lib/python3.11/site-packages/pandas/core/arrays/masked.py:60: UserWarning: Pandas requires version '1.3.6' or newer of 'bottleneck' (version '1.3.5' currently installed).\n",
      "  from pandas.core import (\n"
     ]
    }
   ],
   "source": [
    "import pandas as pd\n",
    "import csv\n",
    "\n",
    "from NULL.nullChecker import nullChecker\n",
    "from Misspelling_Abbreviation.func import missspell\n",
    "from Invalid.health_invalid_module import health_invalid\n",
    "from Invalid.outlier_invalid_module import outlier_invalid_all"
   ]
  },
  {
   "cell_type": "markdown",
   "metadata": {},
   "source": [
    "### Initialize"
   ]
  },
  {
   "cell_type": "code",
   "execution_count": 2,
   "metadata": {},
   "outputs": [],
   "source": [
    "input_path1 = 'dataset/Metal_Content_of_Consumer_Products_Tested_by_the_NYC_Health_Department_20240403.csv'\n",
    "input_path2 = 'dataset/SARS-CoV-2_concentrations_measured_in_NYC_Wastewater_20240403.csv'"
   ]
  },
  {
   "cell_type": "markdown",
   "metadata": {
    "vscode": {
     "languageId": "plaintext"
    }
   },
   "source": [
    "## NULL"
   ]
  },
  {
   "cell_type": "code",
   "execution_count": null,
   "metadata": {},
   "outputs": [
    {
     "ename": "OSError",
     "evalue": "dlopen(/Users/iris/Desktop/Big-Data/project/PerHapS/NULL/src/FAHES.so, 0x0006): tried: '/Users/iris/Desktop/Big-Data/project/PerHapS/NULL/src/FAHES.so' (mach-o file, but is an incompatible architecture (have 'arm64', need 'x86_64')), '/System/Volumes/Preboot/Cryptexes/OS/Users/iris/Desktop/Big-Data/project/PerHapS/NULL/src/FAHES.so' (no such file), '/Users/iris/Desktop/Big-Data/project/PerHapS/NULL/src/FAHES.so' (mach-o file, but is an incompatible architecture (have 'arm64', need 'x86_64'))",
     "output_type": "error",
     "traceback": [
      "\u001b[0;31m---------------------------------------------------------------------------\u001b[0m",
      "\u001b[0;31mOSError\u001b[0m                                   Traceback (most recent call last)",
      "Cell \u001b[0;32mIn[5], line 1\u001b[0m\n\u001b[0;32m----> 1\u001b[0m valid_df1, problem_df1 \u001b[38;5;241m=\u001b[39m \u001b[43mnullChecker\u001b[49m\u001b[43m(\u001b[49m\u001b[43minput_path1\u001b[49m\u001b[43m)\u001b[49m\n\u001b[1;32m      2\u001b[0m valid_df2, problem_df2 \u001b[38;5;241m=\u001b[39m nullChecker(input_path2)\n",
      "File \u001b[0;32m~/Desktop/Big-Data/project/PerHapS/NULL/nullChecker.py:82\u001b[0m, in \u001b[0;36mnullChecker\u001b[0;34m(path)\u001b[0m\n\u001b[1;32m     79\u001b[0m tName \u001b[38;5;241m=\u001b[39m os\u001b[38;5;241m.\u001b[39mpath\u001b[38;5;241m.\u001b[39mabspath(path)\n\u001b[1;32m     80\u001b[0m df \u001b[38;5;241m=\u001b[39m pd\u001b[38;5;241m.\u001b[39mread_csv(tName)\n\u001b[0;32m---> 82\u001b[0m fahes_DMV \u001b[38;5;241m=\u001b[39m \u001b[43mfahes_executor\u001b[49m\u001b[43m(\u001b[49m\u001b[43mtName\u001b[49m\u001b[43m,\u001b[49m\u001b[43m \u001b[49m\u001b[43mtool\u001b[49m\u001b[38;5;241;43m=\u001b[39;49m\u001b[38;5;241;43m4\u001b[39;49m\u001b[43m)\u001b[49m\n\u001b[1;32m     83\u001b[0m regular_null \u001b[38;5;241m=\u001b[39m find_regular_nulls_in_csv(df)\n\u001b[1;32m     85\u001b[0m final_null  \u001b[38;5;241m=\u001b[39m pd\u001b[38;5;241m.\u001b[39mconcat([fahes_DMV, regular_null], ignore_index\u001b[38;5;241m=\u001b[39m\u001b[38;5;28;01mTrue\u001b[39;00m)\u001b[38;5;241m.\u001b[39mdrop_duplicates(keep\u001b[38;5;241m=\u001b[39m\u001b[38;5;124m'\u001b[39m\u001b[38;5;124mfirst\u001b[39m\u001b[38;5;124m'\u001b[39m)\n",
      "File \u001b[0;32m~/Desktop/Big-Data/project/PerHapS/NULL/nullChecker.py:66\u001b[0m, in \u001b[0;36mfahes_executor\u001b[0;34m(tName, tool)\u001b[0m\n\u001b[1;32m     62\u001b[0m libfile \u001b[38;5;241m=\u001b[39m os\u001b[38;5;241m.\u001b[39mpath\u001b[38;5;241m.\u001b[39mjoin(os\u001b[38;5;241m.\u001b[39mpath\u001b[38;5;241m.\u001b[39mdirname(\u001b[38;5;18m__file__\u001b[39m), \u001b[38;5;124m\"\u001b[39m\u001b[38;5;124msrc\u001b[39m\u001b[38;5;124m\"\u001b[39m, \u001b[38;5;124m\"\u001b[39m\u001b[38;5;124mFAHES.so\u001b[39m\u001b[38;5;124m\"\u001b[39m)\n\u001b[1;32m     65\u001b[0m \u001b[38;5;66;03m# Load and configure the shared library\u001b[39;00m\n\u001b[0;32m---> 66\u001b[0m Fahes \u001b[38;5;241m=\u001b[39m \u001b[43mctypes\u001b[49m\u001b[38;5;241;43m.\u001b[39;49m\u001b[43mCDLL\u001b[49m\u001b[43m(\u001b[49m\u001b[43mlibfile\u001b[49m\u001b[43m)\u001b[49m\n\u001b[1;32m     67\u001b[0m Fahes\u001b[38;5;241m.\u001b[39mstart\u001b[38;5;241m.\u001b[39mrestype \u001b[38;5;241m=\u001b[39m ctypes\u001b[38;5;241m.\u001b[39mc_char_p \n\u001b[1;32m     68\u001b[0m Fahes\u001b[38;5;241m.\u001b[39mstart\u001b[38;5;241m.\u001b[39margtypes \u001b[38;5;241m=\u001b[39m [ctypes\u001b[38;5;241m.\u001b[39mc_char_p, ctypes\u001b[38;5;241m.\u001b[39mc_int]\n",
      "File \u001b[0;32m~/opt/anaconda3/envs/py39/lib/python3.9/ctypes/__init__.py:382\u001b[0m, in \u001b[0;36mCDLL.__init__\u001b[0;34m(self, name, mode, handle, use_errno, use_last_error, winmode)\u001b[0m\n\u001b[1;32m    379\u001b[0m \u001b[38;5;28mself\u001b[39m\u001b[38;5;241m.\u001b[39m_FuncPtr \u001b[38;5;241m=\u001b[39m _FuncPtr\n\u001b[1;32m    381\u001b[0m \u001b[38;5;28;01mif\u001b[39;00m handle \u001b[38;5;129;01mis\u001b[39;00m \u001b[38;5;28;01mNone\u001b[39;00m:\n\u001b[0;32m--> 382\u001b[0m     \u001b[38;5;28mself\u001b[39m\u001b[38;5;241m.\u001b[39m_handle \u001b[38;5;241m=\u001b[39m \u001b[43m_dlopen\u001b[49m\u001b[43m(\u001b[49m\u001b[38;5;28;43mself\u001b[39;49m\u001b[38;5;241;43m.\u001b[39;49m\u001b[43m_name\u001b[49m\u001b[43m,\u001b[49m\u001b[43m \u001b[49m\u001b[43mmode\u001b[49m\u001b[43m)\u001b[49m\n\u001b[1;32m    383\u001b[0m \u001b[38;5;28;01melse\u001b[39;00m:\n\u001b[1;32m    384\u001b[0m     \u001b[38;5;28mself\u001b[39m\u001b[38;5;241m.\u001b[39m_handle \u001b[38;5;241m=\u001b[39m handle\n",
      "\u001b[0;31mOSError\u001b[0m: dlopen(/Users/iris/Desktop/Big-Data/project/PerHapS/NULL/src/FAHES.so, 0x0006): tried: '/Users/iris/Desktop/Big-Data/project/PerHapS/NULL/src/FAHES.so' (mach-o file, but is an incompatible architecture (have 'arm64', need 'x86_64')), '/System/Volumes/Preboot/Cryptexes/OS/Users/iris/Desktop/Big-Data/project/PerHapS/NULL/src/FAHES.so' (no such file), '/Users/iris/Desktop/Big-Data/project/PerHapS/NULL/src/FAHES.so' (mach-o file, but is an incompatible architecture (have 'arm64', need 'x86_64'))"
     ]
    }
   ],
   "source": [
    "valid_df1, problem_df1 = nullChecker(input_path1)\n",
    "valid_df2, problem_df2 = nullChecker(input_path2)"
   ]
  },
  {
   "cell_type": "markdown",
   "metadata": {},
   "source": [
    "## Misspelling & Abbreviation"
   ]
  },
  {
   "cell_type": "code",
   "execution_count": null,
   "metadata": {},
   "outputs": [],
   "source": [
    "valid_df1, tmp_problem_df1 = missspell(valid_df1)\n",
    "problem_df1 = pd.concat([problem_df1, tmp_problem_df1], axis=0)"
   ]
  },
  {
   "cell_type": "markdown",
   "metadata": {},
   "source": [
    "## Invalid"
   ]
  },
  {
   "cell_type": "code",
   "execution_count": null,
   "metadata": {},
   "outputs": [],
   "source": [
    "valid_df1, tmp_problem_df1 = health_invalid(valid_df1)\n",
    "valid_df2, tmp_problem_df2 = outlier_invalid_all(valid_df2)\n",
    "problem_df1 = pd.concat([problem_df1, tmp_problem_df1], axis=0)\n",
    "problem_df2 = pd.concat([problem_df2, tmp_problem_df2], axis=0)"
   ]
  },
  {
   "cell_type": "markdown",
   "metadata": {},
   "source": [
    "## Output"
   ]
  },
  {
   "cell_type": "code",
   "execution_count": null,
   "metadata": {},
   "outputs": [],
   "source": [
    "print(valid_df1, problem_df1)\n",
    "print(valid_df2, problem_df2)\n",
    "\n",
    "valid_df1.to_csv('output/Metal_valid.csv', index=False)\n",
    "problem_df1.to_csv('output/Metal_problem.csv', index=False)\n",
    "valid_df2.to_csv('output/SARS-CoV-2_valid.csv', index=False)\n",
    "problem_df2.to_csv('output/SARS-CoV-2_problem.csv', index=False)"
   ]
  }
 ],
 "metadata": {
  "kernelspec": {
   "display_name": "Python 3 (ipykernel)",
   "language": "python",
   "name": "python3"
  },
  "language_info": {
   "codemirror_mode": {
    "name": "ipython",
    "version": 3
   },
   "file_extension": ".py",
   "mimetype": "text/x-python",
   "name": "python",
   "nbconvert_exporter": "python",
   "pygments_lexer": "ipython3",
   "version": "3.11.5"
  }
 },
 "nbformat": 4,
 "nbformat_minor": 2
}
