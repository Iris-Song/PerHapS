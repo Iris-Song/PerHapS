{
 "cells": [
  {
   "cell_type": "markdown",
   "metadata": {},
   "source": [
    "# Data Quality Assessment"
   ]
  },
  {
   "cell_type": "code",
   "execution_count": 1,
   "metadata": {},
   "outputs": [
    {
     "name": "stderr",
     "output_type": "stream",
     "text": [
      "/Users/jiazhousuliaodai/anaconda3/lib/python3.11/site-packages/pandas/core/arrays/masked.py:60: UserWarning: Pandas requires version '1.3.6' or newer of 'bottleneck' (version '1.3.5' currently installed).\n",
      "  from pandas.core import (\n"
     ]
    }
   ],
   "source": [
    "import pandas as pd\n",
    "import csv\n",
    "from NULL.nullChecker import nullChecker\n",
    "from Misspelling_Abbreviation.func import missspell\n",
    "from Invalid.health_invalid_module import health_invalid\n",
    "from Invalid.outlier_invalid_module import outlier_invalid_all"
   ]
  },
  {
   "cell_type": "markdown",
   "metadata": {},
   "source": [
    "### Initialize"
   ]
  },
  {
   "cell_type": "code",
   "execution_count": 2,
   "metadata": {},
   "outputs": [],
   "source": [
    "input_path1 = 'dataset/Metal_Content_of_Consumer_Products_Tested_by_the_NYC_Health_Department_20240403.csv'\n",
    "input_path2 = 'dataset/SARS-CoV-2_concentrations_measured_in_NYC_Wastewater_20240403.csv'"
   ]
  },
  {
   "cell_type": "markdown",
   "metadata": {
    "vscode": {
     "languageId": "plaintext"
    }
   },
   "source": [
    "## NULL"
   ]
  },
  {
   "cell_type": "code",
   "execution_count": 3,
   "metadata": {},
   "outputs": [
    {
     "name": "stderr",
     "output_type": "stream",
     "text": [
      "/Users/jiazhousuliaodai/Desktop/perhaps/dataset/Metal_Content_of_Consumer_Products_Tested_by_the_NYC_Health_Department_20240403.csv  has :6893  tuples  and  10  attributes.\n",
      "/Users/jiazhousuliaodai/Desktop/perhaps/dataset/SARS-CoV-2_concentrations_measured_in_NYC_Wastewater_20240403.csv  has :4648  tuples  and  9  attributes.\n"
     ]
    }
   ],
   "source": [
    "valid_df1, problem_df1 = nullChecker(input_path1)\n",
    "valid_df2, problem_df2 = nullChecker(input_path2)"
   ]
  },
  {
   "cell_type": "markdown",
   "metadata": {},
   "source": [
    "## Misspelling & Abbreviation"
   ]
  },
  {
   "cell_type": "code",
   "execution_count": 4,
   "metadata": {},
   "outputs": [
    {
     "name": "stdout",
     "output_type": "stream",
     "text": [
      "        Value  Frequency  Category\n",
      "0        aaco          1  Misspell\n",
      "1       aamar          1  Misspell\n",
      "2     aaronic          3  Misspell\n",
      "3       abada          8  Misspell\n",
      "4        abco          1  Misspell\n",
      "..        ...        ...       ...\n",
      "246    vibram          1  Misspell\n",
      "247    wakaya          1  Misspell\n",
      "248     weeda          1  Misspell\n",
      "249  yihewani          4  Misspell\n",
      "250      zuba          6  Misspell\n",
      "\n",
      "[251 rows x 3 columns]\n"
     ]
    }
   ],
   "source": [
    "valid_df1, tmp_problem_df1 = missspell(valid_df1)\n",
    "problem_df1 = pd.concat([problem_df1, tmp_problem_df1], axis=0)\n",
    "print(tmp_problem_df1)"
   ]
  },
  {
   "cell_type": "markdown",
   "metadata": {},
   "source": [
    "## Invalid"
   ]
  },
  {
   "cell_type": "code",
   "execution_count": 5,
   "metadata": {},
   "outputs": [
    {
     "name": "stdout",
     "output_type": "stream",
     "text": [
      "Number of rows with unknown country: 2205\n",
      "Unknown countries: Counter({nan: 2088, 'TAIWAN - PROVINCE OF CHINA': 31, \"COTE D'IVOIRE\": 15, 'IVORY COAST': 14, 'TURKEY': 10, 'CROATIA (local name: Hrvatska)': 9, \"KOREA - DEMOCRATIC PEOPLE'S REPUBLIC OF\": 5, 'OTHER AFRICAN': 5, 'OTHER ASIAN': 5, 'OTHER EUROPEAN': 4, 'MACEDONIA - THE FORMER YUGOSLAV REPUBLIC OF': 3, 'TIBET': 3, 'IRAN (ISLAMIC REPUBLIC OF)': 2, 'PALESTINIAN TERRITORY - OCCUPIED': 2, 'MACAU': 1, 'TANZANIA - UNITED REPUBLIC OF': 1, 'MELNESIA': 1, 'MICRONESIA - FEDERATED STATES OF': 1, 'OTHER SPANISH': 1, 'YEMEN (PEOPLES DEM. REP)': 1, 'BOSNIA AND HERZEGOWINA': 1, 'USSR': 1, 'KOREA - REPUBLIC OF': 1})\n",
      "Number of rows with invalid concentration: 0\n",
      "Invalid concentration: Counter()\n",
      "Number of rows with invalid concentration: 0\n",
      "Invalid concentration: Counter()\n"
     ]
    },
    {
     "name": "stderr",
     "output_type": "stream",
     "text": [
      "/Users/jiazhousuliaodai/Desktop/perhaps/Invalid/outlier_invalid_module.py:91: FutureWarning: Series.__getitem__ treating keys as positions is deprecated. In a future version, integer keys will always be treated as labels (consistent with DataFrame behavior). To access a value by position, use `ser.iloc[pos]`\n",
      "  row_cleaned_num = df_cleaned.count()[0]\n",
      "/Users/jiazhousuliaodai/Desktop/perhaps/Invalid/outlier_invalid_module.py:91: FutureWarning: Series.__getitem__ treating keys as positions is deprecated. In a future version, integer keys will always be treated as labels (consistent with DataFrame behavior). To access a value by position, use `ser.iloc[pos]`\n",
      "  row_cleaned_num = df_cleaned.count()[0]\n",
      "/Users/jiazhousuliaodai/anaconda3/lib/python3.11/site-packages/numpy/core/fromnumeric.py:3747: RuntimeWarning: Degrees of freedom <= 0 for slice\n",
      "  return _methods._var(a, axis=axis, dtype=dtype, out=out, ddof=ddof,\n",
      "/Users/jiazhousuliaodai/anaconda3/lib/python3.11/site-packages/numpy/core/_methods.py:226: RuntimeWarning: invalid value encountered in divide\n",
      "  arrmean = um.true_divide(arrmean, div, out=arrmean,\n",
      "/Users/jiazhousuliaodai/anaconda3/lib/python3.11/site-packages/numpy/core/_methods.py:261: RuntimeWarning: invalid value encountered in scalar divide\n",
      "  ret = ret.dtype.type(ret / rcount)\n",
      "/Users/jiazhousuliaodai/Desktop/perhaps/Invalid/outlier_invalid_module.py:91: FutureWarning: Series.__getitem__ treating keys as positions is deprecated. In a future version, integer keys will always be treated as labels (consistent with DataFrame behavior). To access a value by position, use `ser.iloc[pos]`\n",
      "  row_cleaned_num = df_cleaned.count()[0]\n",
      "/Users/jiazhousuliaodai/anaconda3/lib/python3.11/site-packages/numpy/core/fromnumeric.py:3747: RuntimeWarning: Degrees of freedom <= 0 for slice\n",
      "  return _methods._var(a, axis=axis, dtype=dtype, out=out, ddof=ddof,\n",
      "/Users/jiazhousuliaodai/anaconda3/lib/python3.11/site-packages/numpy/core/_methods.py:226: RuntimeWarning: invalid value encountered in divide\n",
      "  arrmean = um.true_divide(arrmean, div, out=arrmean,\n",
      "/Users/jiazhousuliaodai/anaconda3/lib/python3.11/site-packages/numpy/core/_methods.py:261: RuntimeWarning: invalid value encountered in scalar divide\n",
      "  ret = ret.dtype.type(ret / rcount)\n"
     ]
    }
   ],
   "source": [
    "valid_df1, tmp_problem_df1 = health_invalid(valid_df1)\n",
    "valid_df2, tmp_problem_df2 = outlier_invalid_all(valid_df2)\n",
    "problem_df1 = pd.concat([problem_df1, tmp_problem_df1], axis=0)\n",
    "problem_df2 = pd.concat([problem_df2, tmp_problem_df2], axis=0)"
   ]
  },
  {
   "cell_type": "markdown",
   "metadata": {},
   "source": [
    "## Output"
   ]
  },
  {
   "cell_type": "code",
   "execution_count": 6,
   "metadata": {},
   "outputs": [
    {
     "name": "stdout",
     "output_type": "stream",
     "text": [
      "        column_name                       value  frequency    category Value  \\\n",
      "0     CONCENTRATION                          -1     3747.0  NULL Value   NaN   \n",
      "1      MANUFACTURER       UNKNOWN OR NOT STATED     4816.0  NULL Value   NaN   \n",
      "2      PRODUCT_NAME                      Kumkum        2.0  NULL Value   NaN   \n",
      "4      MANUFACTURER   Unknown [Chinese wording]        1.0  NULL Value   NaN   \n",
      "5      MANUFACTURER  Unknown (foreign language)       10.0  NULL Value   NaN   \n",
      "..              ...                         ...        ...         ...   ...   \n",
      "18  MADE_IN_COUNTRY    YEMEN (PEOPLES DEM. REP)        1.0     Invalid   NaN   \n",
      "19  MADE_IN_COUNTRY                       TIBET        3.0     Invalid   NaN   \n",
      "20  MADE_IN_COUNTRY      BOSNIA AND HERZEGOWINA        1.0     Invalid   NaN   \n",
      "21  MADE_IN_COUNTRY                        USSR        1.0     Invalid   NaN   \n",
      "22  MADE_IN_COUNTRY         KOREA - REPUBLIC OF        1.0     Invalid   NaN   \n",
      "\n",
      "    Frequency Category  \n",
      "0         NaN      NaN  \n",
      "1         NaN      NaN  \n",
      "2         NaN      NaN  \n",
      "4         NaN      NaN  \n",
      "5         NaN      NaN  \n",
      "..        ...      ...  \n",
      "18        NaN      NaN  \n",
      "19        NaN      NaN  \n",
      "20        NaN      NaN  \n",
      "21        NaN      NaN  \n",
      "22        NaN      NaN  \n",
      "\n",
      "[281 rows x 7 columns]\n"
     ]
    }
   ],
   "source": [
    "print(problem_df1)\n",
    "\n",
    "valid_df1.to_csv('output/Metal_valid.csv', index=False)\n",
    "problem_df1.to_csv('output/Metal_problem.csv', index=False)\n",
    "\n",
    "valid_df2.to_csv('output/SARS-CoV-2_valid.csv', index=False)\n",
    "problem_df2.to_csv('output/SARS-CoV-2_problem.csv', index=False)"
   ]
  },
  {
   "cell_type": "code",
   "execution_count": null,
   "metadata": {},
   "outputs": [],
   "source": []
  }
 ],
 "metadata": {
  "kernelspec": {
   "display_name": "Python 3 (ipykernel)",
   "language": "python",
   "name": "python3"
  },
  "language_info": {
   "codemirror_mode": {
    "name": "ipython",
    "version": 3
   },
   "file_extension": ".py",
   "mimetype": "text/x-python",
   "name": "python",
   "nbconvert_exporter": "python",
   "pygments_lexer": "ipython3",
   "version": "3.11.5"
  }
 },
 "nbformat": 4,
 "nbformat_minor": 2
}
